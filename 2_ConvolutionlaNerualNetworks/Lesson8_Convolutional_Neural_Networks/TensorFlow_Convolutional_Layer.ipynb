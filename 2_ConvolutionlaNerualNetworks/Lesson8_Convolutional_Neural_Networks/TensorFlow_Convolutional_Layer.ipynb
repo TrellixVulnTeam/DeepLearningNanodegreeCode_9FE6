{
 "cells": [
  {
   "cell_type": "code",
   "execution_count": 1,
   "metadata": {},
   "outputs": [],
   "source": [
    "import tensorflow as tf"
   ]
  },
  {
   "cell_type": "markdown",
   "metadata": {},
   "source": [
    "## tf.nn.conv2d() and tf.nn.bias_add()"
   ]
  },
  {
   "cell_type": "code",
   "execution_count": 2,
   "metadata": {},
   "outputs": [],
   "source": [
    "k_output = 64 # how many kernel you want to output"
   ]
  },
  {
   "cell_type": "code",
   "execution_count": 3,
   "metadata": {},
   "outputs": [],
   "source": [
    "image_width = 10\n",
    "image_height = 10\n",
    "color_channels = 3"
   ]
  },
  {
   "cell_type": "code",
   "execution_count": 4,
   "metadata": {},
   "outputs": [],
   "source": [
    "filter_size_width = 5\n",
    "filter_size_height = 5"
   ]
  },
  {
   "cell_type": "code",
   "execution_count": 5,
   "metadata": {},
   "outputs": [],
   "source": [
    "# Input / Image\n",
    "input = tf.placeholder(tf.float32, shape=[None, image_height, image_width, color_channels])"
   ]
  },
  {
   "cell_type": "code",
   "execution_count": 6,
   "metadata": {},
   "outputs": [],
   "source": [
    "# weights and bias\n",
    "weights = tf.Variable( tf.truncated_normal( [filter_size_height, filter_size_width, color_channels, k_output] ) )\n",
    "bias = tf.Variable( tf.zeros([k_output]) )"
   ]
  },
  {
   "cell_type": "code",
   "execution_count": 7,
   "metadata": {},
   "outputs": [],
   "source": [
    "# Build the convolutional layer\n",
    "conv_layer = tf.nn.conv2d(input, weights, strides=[1,2,2,1], padding='SAME')\n",
    "conv_layer = tf.nn.bias_add( conv_layer, bias )\n",
    "conv_layer = tf.nn.relu( conv_layer )"
   ]
  },
  {
   "cell_type": "markdown",
   "metadata": {},
   "source": [
    "strides = [batch, input_height, input_height, input_channels]. We are generally always going to set the stride for batch and input_channels to be 1"
   ]
  }
 ],
 "metadata": {
  "kernelspec": {
   "display_name": "Python 3",
   "language": "python",
   "name": "python3"
  },
  "language_info": {
   "codemirror_mode": {
    "name": "ipython",
    "version": 3
   },
   "file_extension": ".py",
   "mimetype": "text/x-python",
   "name": "python",
   "nbconvert_exporter": "python",
   "pygments_lexer": "ipython3",
   "version": "3.5.4"
  }
 },
 "nbformat": 4,
 "nbformat_minor": 2
}
