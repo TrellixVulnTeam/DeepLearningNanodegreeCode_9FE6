{
 "cells": [
  {
   "cell_type": "code",
   "execution_count": 1,
   "metadata": {},
   "outputs": [],
   "source": [
    "import tensorflow as tf\n",
    "from tensorflow.examples.tutorials.mnist import input_data"
   ]
  },
  {
   "cell_type": "code",
   "execution_count": 2,
   "metadata": {},
   "outputs": [
    {
     "name": "stdout",
     "output_type": "stream",
     "text": [
      "Extracting /datasets/ud730/mnist/train-images-idx3-ubyte.gz\n",
      "Extracting /datasets/ud730/mnist/train-labels-idx1-ubyte.gz\n",
      "Extracting /datasets/ud730/mnist/t10k-images-idx3-ubyte.gz\n",
      "Extracting /datasets/ud730/mnist/t10k-labels-idx1-ubyte.gz\n"
     ]
    }
   ],
   "source": [
    "mnist = input_data.read_data_sets('/datasets/ud730/mnist/', one_hot=True, reshape=False)"
   ]
  },
  {
   "cell_type": "code",
   "execution_count": 87,
   "metadata": {},
   "outputs": [],
   "source": [
    "# Parameters\n",
    "learning_rate = 0.0001\n",
    "epochs = 10\n",
    "batch_size = 128"
   ]
  },
  {
   "cell_type": "code",
   "execution_count": 88,
   "metadata": {},
   "outputs": [],
   "source": [
    "test_valid_size = 256"
   ]
  },
  {
   "cell_type": "code",
   "execution_count": 89,
   "metadata": {},
   "outputs": [],
   "source": [
    "n_classes = 10\n",
    "dropout = 0.75 # probability to keep units"
   ]
  },
  {
   "cell_type": "code",
   "execution_count": 90,
   "metadata": {},
   "outputs": [],
   "source": [
    "# weights and bias\n",
    "weights = {\n",
    "    'wc1' : tf.Variable( tf.random_normal([5, 5, 1, 32]) ),\n",
    "    'wc2' : tf.Variable( tf.random_normal([5, 5, 32, 64]) ),\n",
    "    'wd1' : tf.Variable( tf.random_normal([7*7*64, 1024]) ), \n",
    "    'out' : tf.Variable( tf.random_normal([1024, n_classes]) )\n",
    "}\n",
    "biases = {\n",
    "    'bc1' : tf.Variable( tf.zeros([32]) ),\n",
    "    'bc2' : tf.Variable( tf.zeros([64]) ),\n",
    "    'bd1' : tf.Variable( tf.zeros([1024]) ),\n",
    "    'out' : tf.Variable( tf.zeros([n_classes]) ),\n",
    "}"
   ]
  },
  {
   "cell_type": "code",
   "execution_count": 91,
   "metadata": {},
   "outputs": [],
   "source": [
    "def conv2d(x, W, b, strides=1):\n",
    "    x = tf.nn.conv2d( x, W, strides=[1, strides, strides, 1], padding='SAME' )\n",
    "    x = tf.nn.bias_add( x, b )\n",
    "    return tf.nn.relu(x)"
   ]
  },
  {
   "cell_type": "code",
   "execution_count": 92,
   "metadata": {},
   "outputs": [],
   "source": [
    "def maxpool2d(x, k=2):\n",
    "    return tf.nn.max_pool(x, ksize=[1, k, k, 1], strides=[1, k, k, 1], padding=\"SAME\")"
   ]
  },
  {
   "cell_type": "code",
   "execution_count": 93,
   "metadata": {},
   "outputs": [],
   "source": [
    "def conv_net(x, weights, biases, dropout):\n",
    "    # Layer 1 - 28*28*1 to 14*14*32\n",
    "    conv1 = conv2d( x, weights['wc1'], biases['bc1'] )\n",
    "    conv1 = maxpool2d(conv1, k=2)\n",
    "    \n",
    "    # Layer 2 - 14*14*32 to 7*7*64\n",
    "    conv2 = conv2d( conv1, weights['wc2'], biases['bc2'] )\n",
    "    conv2 = maxpool2d(conv2, k=2)\n",
    "    \n",
    "    # Layer 3 Fully connected layer - 7*7*64 to 1024\n",
    "    fc1 = tf.reshape(conv2, [-1, weights['wd1'].get_shape().as_list()[0]])\n",
    "    fc1 = tf.add( tf.matmul(fc1, weights['wd1']), biases['bd1'] )\n",
    "    fc1 = tf.nn.relu( fc1 )\n",
    "    fc1 = tf.nn.dropout( fc1, dropout )\n",
    "    \n",
    "    # Output Layer - 1024 to 10\n",
    "    out = tf.add( tf.matmul(fc1, weights['out']), biases['out'] )\n",
    "    return out"
   ]
  },
  {
   "cell_type": "markdown",
   "metadata": {},
   "source": [
    "## Session"
   ]
  },
  {
   "cell_type": "code",
   "execution_count": 94,
   "metadata": {},
   "outputs": [],
   "source": [
    "# tf input\n",
    "x = tf.placeholder(tf.float32, [None, 28,28,1])\n",
    "y = tf.placeholder(tf.float32, [None, n_classes])\n",
    "keep_prob = tf.placeholder(tf.float32)"
   ]
  },
  {
   "cell_type": "code",
   "execution_count": 95,
   "metadata": {},
   "outputs": [],
   "source": [
    "# Model\n",
    "logits = conv_net( x, weights, biases, keep_prob )"
   ]
  },
  {
   "cell_type": "code",
   "execution_count": 96,
   "metadata": {},
   "outputs": [],
   "source": [
    "# Define loss and optimizer\n",
    "cost = tf.reduce_mean( tf.nn.softmax_cross_entropy_with_logits(logits=logits, labels=y) )\n",
    "optimizer = tf.train.GradientDescentOptimizer(learning_rate=learning_rate).minimize(cost)"
   ]
  },
  {
   "cell_type": "code",
   "execution_count": 97,
   "metadata": {},
   "outputs": [],
   "source": [
    "# Accuracy\n",
    "correct_pred = tf.equal(tf.argmax(logits, 1), tf.argmax(y, 1))\n",
    "accuracy = tf.reduce_mean( tf.cast(correct_pred, tf.float32) )"
   ]
  },
  {
   "cell_type": "code",
   "execution_count": 98,
   "metadata": {},
   "outputs": [],
   "source": [
    "init = tf.global_variables_initializer()"
   ]
  },
  {
   "cell_type": "code",
   "execution_count": null,
   "metadata": {},
   "outputs": [],
   "source": [
    "# Launch the graph\n",
    "with tf.Session() as sess:\n",
    "    sess.run(init)\n",
    "    \n",
    "    for epoch in range(epochs):\n",
    "        for batch in range(mnist.train.num_examples//batch_size):\n",
    "            batch_x, batch_y = mnist.train.next_batch(batch_size)\n",
    "            sess.run( optimizer, feed_dict={x:batch_x, y:batch_y, keep_prob:dropout} )\n",
    "            \n",
    "            # Calculate batch loss and accuracy\n",
    "            loss = sess.run( cost, feed_dict={x:batch_x, y:batch_y, keep_prob:1.} )\n",
    "            valid_acc = sess.run(accuracy, feed_dict={\n",
    "                x:mnist.validation.images[:test_valid_size],\n",
    "                y:mnist.validation.labels[:test_valid_size],\n",
    "                keep_prob:1.0\n",
    "                })\n",
    "        \n",
    "            print('Epoch {:>2}, Batch {:>3} -'\n",
    "                  'Loss: {:>10.4f} Validation Accuracy: {:.6f}'.format(\n",
    "                      epoch + 1,\n",
    "                      batch + 1,\n",
    "                      loss,\n",
    "                      valid_acc\n",
    "                  ))\n",
    "    # Calculate the Test Accuracy\n",
    "    test_acc = sess.run( accuracy, feed_dict={\n",
    "        x: mnist.test.images[:test_valid_size],\n",
    "        y: mnist.test.labels[:test_valid_size],\n",
    "        keep_prob:1.0\n",
    "    } )"
   ]
  }
 ],
 "metadata": {
  "kernelspec": {
   "display_name": "Python 3",
   "language": "python",
   "name": "python3"
  },
  "language_info": {
   "codemirror_mode": {
    "name": "ipython",
    "version": 3
   },
   "file_extension": ".py",
   "mimetype": "text/x-python",
   "name": "python",
   "nbconvert_exporter": "python",
   "pygments_lexer": "ipython3",
   "version": "3.5.4"
  }
 },
 "nbformat": 4,
 "nbformat_minor": 2
}
