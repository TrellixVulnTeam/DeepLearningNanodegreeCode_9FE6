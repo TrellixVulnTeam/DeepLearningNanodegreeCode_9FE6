{
 "cells": [
  {
   "cell_type": "code",
   "execution_count": 1,
   "metadata": {},
   "outputs": [],
   "source": [
    "import tensorflow as tf"
   ]
  },
  {
   "cell_type": "code",
   "execution_count": 2,
   "metadata": {},
   "outputs": [],
   "source": [
    "k_output = 64\n",
    "image_height= 10\n",
    "image_weight = 10\n",
    "color_channels = 3"
   ]
  },
  {
   "cell_type": "code",
   "execution_count": 3,
   "metadata": {},
   "outputs": [],
   "source": [
    "# weights and bias\n",
    "weights = tf.Variable( tf.truncated_normal( [image_height, image_weight, color_channels, k_output] ) )\n",
    "bias = tf.Variable( tf.zeros([k_output]) )\n",
    "features = tf.placeholder( tf.float32, [None, image_height, image_weight, color_channels] )"
   ]
  },
  {
   "cell_type": "code",
   "execution_count": 4,
   "metadata": {},
   "outputs": [],
   "source": [
    "conv_layer = tf.nn.conv2d( features, weights, strides=[1,2,2,1], padding='SAME' )\n",
    "conv_layer = tf.nn.bias_add( conv_layer, bias )\n",
    "conv_layer = tf.nn.relu( conv_layer )"
   ]
  },
  {
   "cell_type": "code",
   "execution_count": null,
   "metadata": {},
   "outputs": [],
   "source": [
    "# Apply max pooling\n",
    "conv_layer = tf.nn.max_pool( conv_layer, ksize=[1,2,2,1], strides=[1,2,2,1], padding='SAME' )"
   ]
  }
 ],
 "metadata": {
  "kernelspec": {
   "display_name": "Python 3",
   "language": "python",
   "name": "python3"
  },
  "language_info": {
   "codemirror_mode": {
    "name": "ipython",
    "version": 3
   },
   "file_extension": ".py",
   "mimetype": "text/x-python",
   "name": "python",
   "nbconvert_exporter": "python",
   "pygments_lexer": "ipython3",
   "version": "3.5.4"
  }
 },
 "nbformat": 4,
 "nbformat_minor": 2
}
