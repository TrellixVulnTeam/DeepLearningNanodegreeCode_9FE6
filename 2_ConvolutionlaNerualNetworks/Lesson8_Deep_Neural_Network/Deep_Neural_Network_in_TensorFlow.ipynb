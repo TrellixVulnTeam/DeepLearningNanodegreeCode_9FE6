{
 "cells": [
  {
   "cell_type": "code",
   "execution_count": 1,
   "metadata": {},
   "outputs": [],
   "source": [
    "from tensorflow.examples.tutorials.mnist import input_data\n",
    "import tensorflow as tf"
   ]
  },
  {
   "cell_type": "code",
   "execution_count": 4,
   "metadata": {},
   "outputs": [
    {
     "name": "stdout",
     "output_type": "stream",
     "text": [
      "Extracting /datasets/ud730/mnist\\train-images-idx3-ubyte.gz\n",
      "Extracting /datasets/ud730/mnist\\train-labels-idx1-ubyte.gz\n",
      "Extracting /datasets/ud730/mnist\\t10k-images-idx3-ubyte.gz\n",
      "Extracting /datasets/ud730/mnist\\t10k-labels-idx1-ubyte.gz\n"
     ]
    }
   ],
   "source": [
    "mnist = input_data.read_data_sets('/datasets/ud730/mnist', one_hot=True, reshape=False)"
   ]
  },
  {
   "cell_type": "code",
   "execution_count": 27,
   "metadata": {},
   "outputs": [],
   "source": [
    "# Set the hypyparameters\n",
    "learning_rate = 0.01\n",
    "training_epochs = 200\n",
    "batch_size = 128\n",
    "\n",
    "# input size and output size\n",
    "n_input = 784\n",
    "n_classes = 10\n",
    "n_hidden_layer = 256"
   ]
  },
  {
   "cell_type": "code",
   "execution_count": 28,
   "metadata": {},
   "outputs": [],
   "source": [
    "# Weights and biases\n",
    "weights = {\n",
    "    'hidden_layer' : tf.Variable( tf.random_normal([n_input, n_hidden_layer], 0, n_input**-0.5) ),\n",
    "    'output_layer' : tf.Variable( tf.random_normal( [n_hidden_layer, n_classes], 0, n_hidden_layer**-0.5 ) )\n",
    "    }\n",
    "\n",
    "biases = {\n",
    "    'hidden_layer' : tf.Variable( tf.zeros(n_hidden_layer) ),\n",
    "    'output_layer' : tf.Variable( tf.zeros(n_classes) )\n",
    "    }"
   ]
  },
  {
   "cell_type": "code",
   "execution_count": 29,
   "metadata": {},
   "outputs": [],
   "source": [
    "# feateures and labels\n",
    "x = tf.placeholder(tf.float32, [None, 28,28,1])\n",
    "y = tf.placeholder(tf.float32, [None, n_classes])\n",
    "\n",
    "x_flat = tf.reshape(x, [-1, n_input])"
   ]
  },
  {
   "cell_type": "code",
   "execution_count": 30,
   "metadata": {},
   "outputs": [],
   "source": [
    "# Build the network\n",
    "layer_1 = tf.add( tf.matmul(x_flat, weights['hidden_layer']), biases['hidden_layer'] )\n",
    "layer_1 = tf.nn.relu(layer_1)\n",
    "\n",
    "logits = tf.add( tf.matmul(layer_1, weights['output_layer']), biases['output_layer'] )"
   ]
  },
  {
   "cell_type": "code",
   "execution_count": 31,
   "metadata": {},
   "outputs": [],
   "source": [
    "# Define loss and optimizer\n",
    "cost = tf.reduce_mean( tf.nn.softmax_cross_entropy_with_logits(logits=logits, labels=y) )\n",
    "optimizer = tf.train.GradientDescentOptimizer(learning_rate=learning_rate).minimize(cost)"
   ]
  },
  {
   "cell_type": "code",
   "execution_count": 32,
   "metadata": {},
   "outputs": [
    {
     "name": "stdout",
     "output_type": "stream",
     "text": [
      "Loss=1.3244738578796387\n"
     ]
    }
   ],
   "source": [
    "# Run \n",
    "init = tf.global_variables_initializer()\n",
    "with tf.Session() as sess:\n",
    "    sess.run(init)\n",
    "    for i in range(training_epochs):\n",
    "        batch_x, batch_y =  mnist.train.next_batch(batch_size)\n",
    "        _,l = sess.run([optimizer,cost], feed_dict={x:batch_x, y:batch_y})\n",
    "print(\"Loss={}\".format(l))"
   ]
  }
 ],
 "metadata": {
  "kernelspec": {
   "display_name": "Python 3",
   "language": "python",
   "name": "python3"
  },
  "language_info": {
   "codemirror_mode": {
    "name": "ipython",
    "version": 3
   },
   "file_extension": ".py",
   "mimetype": "text/x-python",
   "name": "python",
   "nbconvert_exporter": "python",
   "pygments_lexer": "ipython3",
   "version": "3.5.4"
  }
 },
 "nbformat": 4,
 "nbformat_minor": 2
}
